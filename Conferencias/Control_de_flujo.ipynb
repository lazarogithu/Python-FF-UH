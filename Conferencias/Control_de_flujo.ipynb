{
 "cells": [
  {
   "cell_type": "markdown",
   "id": "a44b0525",
   "metadata": {},
   "source": [
    "# Conntrol de flujo"
   ]
  },
  {
   "cell_type": "markdown",
   "id": "7140fca4",
   "metadata": {},
   "source": [
    "Python tiene varias palabras clave integradas para la lógica condicional, los bucles y otros conceptos de flujo de control estándar que se encuentran en otros lenguajes de programación."
   ]
  },
  {
   "cell_type": "markdown",
   "id": "2ea9553e",
   "metadata": {},
   "source": [
    "**if, elif, else**\n",
    "\n",
    "\n",
    "\n",
    "\n",
    "- La instrucción if es uno de los tipos de instrucciones de flujo de control más conocidos. Verifica una condición que, si es verdadera, evalúa el código en el bloque que sigue"
   ]
  },
  {
   "cell_type": "code",
   "execution_count": null,
   "id": "4197d01e",
   "metadata": {},
   "outputs": [],
   "source": [
    "x = -10\n",
    "if x < 0:\n",
    "    print('no positivo')"
   ]
  },
  {
   "cell_type": "markdown",
   "id": "a485080d",
   "metadata": {},
   "source": [
    "- Una instrucción `if` puede ser seguida opcionalmente por uno o más bloques `elif` y un bloque `else` que atrapa todo si todas las condiciones son falsas:"
   ]
  },
  {
   "cell_type": "code",
   "execution_count": null,
   "id": "abffcea5",
   "metadata": {},
   "outputs": [],
   "source": [
    "if x < 0:\n",
    "    print('no positivo')\n",
    "elif x == 0:\n",
    "    print('cero')\n",
    "elif 0 < x < 5:\n",
    "    print('positivo, menor que cero')\n",
    "else:\n",
    "    print('positivo, mayor que 5')"
   ]
  },
  {
   "cell_type": "markdown",
   "id": "fbfcd508",
   "metadata": {},
   "source": [
    "- Si alguna de las condiciones es verdadera, no se alcanzarán más bloques `elif` o `else`. \n",
    "\n",
    "\n",
    "\n",
    "- Con una condición compuesta que usa `and` o `or`, las condiciones se evalúan de izquierda a derecha y se acortarán:"
   ]
  },
  {
   "cell_type": "code",
   "execution_count": null,
   "id": "e06ba1e6",
   "metadata": {},
   "outputs": [],
   "source": [
    "a = 5; b = 7\n",
    "c = 8; d = 4\n",
    "if a < b or c > d:\n",
    "    print('listo')"
   ]
  },
  {
   "cell_type": "markdown",
   "id": "0e2fd32e",
   "metadata": {},
   "source": [
    "**Ciclos for**"
   ]
  },
  {
   "cell_type": "markdown",
   "id": "9daa69e0",
   "metadata": {},
   "source": [
    "- Los bucles `for` son para iterar sobre una colección (como una lista o una tupla) o un iterador\n",
    "\n",
    "\n",
    "- Puedes avanzar un bucle `for` a la siguiente iteración, saltándote el resto del bloque, usando la palabra clave continue"
   ]
  },
  {
   "cell_type": "code",
   "execution_count": null,
   "id": "0a33eecd",
   "metadata": {},
   "outputs": [],
   "source": [
    "sequencia = [1, 2, None, 4, None, 5]\n",
    "total = 0\n",
    "for valor in sequencia:\n",
    "    if valor is None:\n",
    "        continue\n",
    "    total += valor\n",
    "    \n",
    "total    "
   ]
  },
  {
   "cell_type": "markdown",
   "id": "dc8a1f72",
   "metadata": {},
   "source": [
    "- La palabra clave break permite salir completamente del ciclo"
   ]
  },
  {
   "cell_type": "code",
   "execution_count": null,
   "id": "5ee2375a",
   "metadata": {},
   "outputs": [],
   "source": [
    " sequencia = [1, 2, 0, 4, 6, 5, 2, 1]\n",
    "total_hasta_5 = 0\n",
    "for valor in sequencia:\n",
    "    if valor == 5:\n",
    "        break\n",
    "    total_hasta_5 += valor\n",
    "total_hasta_5   "
   ]
  },
  {
   "cell_type": "markdown",
   "id": "9eff5156",
   "metadata": {},
   "source": [
    "- La palabra clave break solo termina el bucle `for` más interno; cualquier bucle `for` externo seguirá ejecutándose:"
   ]
  },
  {
   "cell_type": "code",
   "execution_count": null,
   "id": "3b241cbf",
   "metadata": {},
   "outputs": [],
   "source": [
    "for i in range(4):\n",
    "    for j in range(4):\n",
    "        if j > i:\n",
    "            break\n",
    "        print((i, j))"
   ]
  },
  {
   "cell_type": "markdown",
   "id": "6e8a6d7c",
   "metadata": {},
   "source": [
    "**Ciclos while**"
   ]
  },
  {
   "cell_type": "markdown",
   "id": "be50fbec",
   "metadata": {},
   "source": [
    "Un bucle `while` especifica una condición y un bloque de código que se ejecutará hasta que la condición se evalúe como Falsa o el bucle se termine explícitamente con `break`"
   ]
  },
  {
   "cell_type": "code",
   "execution_count": null,
   "id": "fc229c59",
   "metadata": {},
   "outputs": [],
   "source": [
    "x = 256\n",
    "total = 0\n",
    "while x > 0:\n",
    "    if total > 500:\n",
    "        break\n",
    "    total += x\n",
    "    x = x / 2\n",
    "total    "
   ]
  },
  {
   "cell_type": "markdown",
   "id": "1a7a1b9e",
   "metadata": {},
   "source": [
    "**range**: la función `range` devuelve un iterador que produce una secuencia de enteros uniformemente espaciados\n",
    "\n",
    "\n",
    "*<u>Un iterador en Python es un objeto que permite recorrer un conjunto de elementos, uno a la vez, sin tener que cargar todos los elementos en memoria al mismo tiempo<u>*"
   ]
  },
  {
   "cell_type": "code",
   "execution_count": null,
   "id": "94d50157",
   "metadata": {},
   "outputs": [],
   "source": [
    "range(10)"
   ]
  },
  {
   "cell_type": "code",
   "execution_count": null,
   "id": "0e0d9249",
   "metadata": {},
   "outputs": [],
   "source": [
    "list(range(10))"
   ]
  },
  {
   "cell_type": "markdown",
   "id": "4b9269b5",
   "metadata": {},
   "source": [
    "- Se pueden proporcionar un inicio, un final y un paso (que puede ser negativo):"
   ]
  },
  {
   "cell_type": "code",
   "execution_count": null,
   "id": "8d9f477f",
   "metadata": {},
   "outputs": [],
   "source": [
    "list(range(0, 20, 2))"
   ]
  },
  {
   "cell_type": "code",
   "execution_count": null,
   "id": "de4924fe",
   "metadata": {},
   "outputs": [],
   "source": [
    "list(range(5, 0, -1))"
   ]
  },
  {
   "cell_type": "markdown",
   "id": "88781e4b",
   "metadata": {},
   "source": [
    "- `range` produce enteros hasta pero no incluyendo el elemento final. Un uso común de `range` es para iterar a través de secuencias por índice"
   ]
  },
  {
   "cell_type": "code",
   "execution_count": null,
   "id": "4f5d9a8c",
   "metadata": {},
   "outputs": [],
   "source": [
    "seq = [1, 2, 3, 4]\n",
    "for i in range(len(seq)):\n",
    "    val = seq[i]\n",
    "val    "
   ]
  },
  {
   "cell_type": "markdown",
   "id": "693b6aa2",
   "metadata": {},
   "source": [
    "Si bien puede usar funciones como `list` para almacenar todos los enteros generados por `range` en alguna otra estructura de datos, a menudo la forma de iterador predeterminada será lo que se desea y lo más óptimo:"
   ]
  },
  {
   "cell_type": "code",
   "execution_count": null,
   "id": "b52f0e1a",
   "metadata": {},
   "outputs": [],
   "source": [
    "suma = 0\n",
    "for i in range(100000):\n",
    "    if i % 3 == 0 or i % 5 == 0:\n",
    "        suma += i\n",
    "suma        "
   ]
  },
  {
   "cell_type": "markdown",
   "id": "220bca23",
   "metadata": {},
   "source": [
    "Si bien el rango generado puede ser arbitrariamente grande, el uso de memoria en un momento dado puede ser muy pequeño"
   ]
  },
  {
   "cell_type": "markdown",
   "id": "2b58b904",
   "metadata": {},
   "source": [
    "**Expresiones ternarias.**\n",
    "\n",
    "\n",
    "\n",
    "- Una expresión ternaria en Python permite combinar un bloque if-else en una sola línea\n",
    "\n",
    "\n",
    "\n",
    "        value = true-expr if condition else false-expr"
   ]
  },
  {
   "cell_type": "code",
   "execution_count": null,
   "id": "1cbcdf64",
   "metadata": {},
   "outputs": [],
   "source": [
    "x = 5\n",
    "\"positivo\" if x > 0 else \"negativo\""
   ]
  },
  {
   "cell_type": "markdown",
   "id": "a3e3f03b",
   "metadata": {},
   "source": [
    "- Al igual que con los bloques `if-else`, solo se ejecutará una de las expresiones. Por lo tanto, las partes `if` y `else` de la expresión ternaria podrían contener cálculos costosos, pero solo se evalúa la rama verdadera.\n",
    "\n",
    "\n",
    "- Si bien puede ser tentador usar siempre expresiones ternarias para condensar su código, se debe tener en cuenta que se sacrifica la legibilidad si la condición y las expresiones verdaderas y falsas son muy complejas"
   ]
  }
 ],
 "metadata": {
  "kernelspec": {
   "display_name": "Python 3 (ipykernel)",
   "language": "python",
   "name": "python3"
  },
  "language_info": {
   "codemirror_mode": {
    "name": "ipython",
    "version": 3
   },
   "file_extension": ".py",
   "mimetype": "text/x-python",
   "name": "python",
   "nbconvert_exporter": "python",
   "pygments_lexer": "ipython3",
   "version": "3.9.12"
  }
 },
 "nbformat": 4,
 "nbformat_minor": 5
}
