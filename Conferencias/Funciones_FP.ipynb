{
 "cells": [
  {
   "cell_type": "markdown",
   "id": "53b75197",
   "metadata": {
    "slideshow": {
     "slide_type": "slide"
    }
   },
   "source": [
    "# Funciones. Programación funcional\n",
    "\n",
    "Las funciones son el método principal y más importante de organización y reutilización de código en Python. Si es necesario repetir el mismo código o un código muy similar más de una vez, puede valer la pena escribir una función reutilizable. Las funciones también pueden ayudar a hacer tu código más legible al darle un nombre a un grupo de sentencias de Python.\n",
    "\n",
    "Las funciones se declaran con la palabra clave `def` y se retornan con la palabra clave `return`:"
   ]
  },
  {
   "cell_type": "code",
   "execution_count": null,
   "id": "21cc5237",
   "metadata": {
    "slideshow": {
     "slide_type": "subslide"
    }
   },
   "outputs": [],
   "source": [
    "def mi_funcion(x, y, z=1.5):\n",
    "    if z > 1:\n",
    "        return z * (x + y)\n",
    "    else:\n",
    "        return z / (x + y)"
   ]
  },
  {
   "cell_type": "markdown",
   "id": "3aba40da",
   "metadata": {
    "slideshow": {
     "slide_type": "slide"
    }
   },
   "source": [
    "No hay problema en tener múltiples declaraciones de retorno. Si Python llega al final de una función sin encontrar una declaración de retorno, se devuelve automáticamente `None`. \n",
    "\n",
    "Cada función puede tener argumentos posicionales y argumentos de palabras clave. Los argumentos de palabras clave se utilizan más comúnmente para especificar valores predeterminados o argumentos opcionales. En la función anterior, `x` e `y` son argumentos posicionales mientras que `z` es un argumento de palabra clave. Esto significa que la función puede ser llamada de cualquiera de estas maneras."
   ]
  },
  {
   "cell_type": "code",
   "execution_count": null,
   "id": "0dfa53b5",
   "metadata": {
    "slideshow": {
     "slide_type": "subslide"
    }
   },
   "outputs": [],
   "source": [
    "print(my_function(5, 6, z=0.7))\n",
    "print(my_function(3.14, 7, 3.5))\n",
    "print(my_function(10, 20))"
   ]
  },
  {
   "cell_type": "markdown",
   "id": "a31523db",
   "metadata": {
    "slideshow": {
     "slide_type": "slide"
    }
   },
   "source": [
    "La principal restricción en los argumentos de las funciones es que los argumentos de palabras clave deben seguir a los argumentos posicionales (si los hay). Puedes especificar argumentos de palabras clave en cualquier orden; esto te libera de tener que recordar en qué orden se especificaron los argumentos de la función y solo cuáles son sus nombres.\n",
    "\n",
    "También es posible usar palabras clave para pasar argumentos posicionales. En el ejemplo anterior, también podríamos haber escrito:\n",
    "\n",
    "\n",
    "        my_function(x=5, y=6, z=7)\n",
    "        my_function(y=6, x=5, z=7)"
   ]
  },
  {
   "cell_type": "markdown",
   "id": "0b7f7486",
   "metadata": {
    "slideshow": {
     "slide_type": "slide"
    }
   },
   "source": [
    "##### Ejercicios\n",
    "\n",
    "**1-** Escriba una función que calcule el área de un círculo"
   ]
  },
  {
   "cell_type": "code",
   "execution_count": null,
   "id": "77d929ed",
   "metadata": {
    "slideshow": {
     "slide_type": "subslide"
    }
   },
   "outputs": [],
   "source": [
    "def circle_area(radius):\n",
    "    return  #complete\n"
   ]
  },
  {
   "cell_type": "markdown",
   "id": "31973e2e",
   "metadata": {
    "slideshow": {
     "slide_type": "subslide"
    }
   },
   "source": [
    "**2-** Cree una nueva función que calcule el volumen de un cilindro, haga uso de la funcion anteriormente creada"
   ]
  },
  {
   "cell_type": "code",
   "execution_count": null,
   "id": "d455133a",
   "metadata": {
    "slideshow": {
     "slide_type": "subslide"
    }
   },
   "outputs": [],
   "source": [
    "def cylinder_volume(radius, height):\n",
    "    return circle_area(radius) * height\n",
    "\n",
    "cylinder_volume(2, 10)"
   ]
  },
  {
   "cell_type": "markdown",
   "id": "fd8b5b84",
   "metadata": {
    "slideshow": {
     "slide_type": "slide"
    }
   },
   "source": [
    "**Devolver múltiples valores**\n",
    "\n",
    "```python\n",
    "def f():\n",
    "    a = 5\n",
    "    b = 6\n",
    "    c = 7\n",
    "    return a, b, c\n",
    "\n",
    "a, b, c = f()\n",
    "```\n",
    "En el análisis de datos y otras aplicaciones científicas, puedes encontrarte haciendo esto a menudo. Lo que está sucediendo aquí es que la función en realidad solo está devolviendo un objeto, a saber, una tupla, que luego se desempaqueta en las variables de resultado."
   ]
  },
  {
   "cell_type": "markdown",
   "id": "d3ab6806",
   "metadata": {
    "slideshow": {
     "slide_type": "slide"
    }
   },
   "source": [
    "# Programación Funcional\n",
    "La programación funcional es un paradigma de programación que trata el cálculo como la evaluación de funciones matemáticas y evita cambiar el estado y los datos mutables. En Python, la programación funcional se puede lograr utilizando varias técnicas y conceptos. Aquí hay algunos conceptos clave y características de la programación funcional en Python:\n",
    "\n",
    "- Funciones puras: Las funciones puras son funciones que devuelven la misma salida para la misma entrada y no tienen efectos secundarios.\n",
    "\n",
    "- Inmutabilidad: La programación funcional favorece la inmutabilidad, donde las estructuras de datos y los valores no se modifican después de que se crean.\n",
    "\n",
    "- Funciones de orden superior: En la programación funcional, las funciones son ciudadanos de primera clase, lo que significa que se pueden asignar a variables, pasar como argumentos a otras funciones y devolver como valores de funciones.\n",
    "\n",
    "- Funciones Lambda: Las funciones Lambda, también conocidas como funciones anónimas, son pequeñas funciones de una línea que se definen sin nombre.\n"
   ]
  },
  {
   "cell_type": "markdown",
   "id": "29f3652e",
   "metadata": {
    "slideshow": {
     "slide_type": "slide"
    }
   },
   "source": [
    "## Las funciones de Python son ciudadanos de primera clase\n",
    "\n",
    "En Python, las funciones se tratan como objetos que se pueden asignar a variables, pasar como argumentos a otras funciones y devolver como valores de funciones.\n",
    "Esto significa que las funciones no son solo una forma de organizar el código en bloques reutilizables, sino que también son una herramienta poderosa para construir programas complejos.\n"
   ]
  },
  {
   "cell_type": "code",
   "execution_count": null,
   "id": "f8c796a6",
   "metadata": {
    "slideshow": {
     "slide_type": "subslide"
    }
   },
   "outputs": [],
   "source": [
    "def square(x):\n",
    "    return x ** 2\n",
    "\n",
    "f = square\n",
    "result = f(5)\n",
    "print(result)"
   ]
  },
  {
   "cell_type": "markdown",
   "id": "33505aad",
   "metadata": {
    "slideshow": {
     "slide_type": "slide"
    }
   },
   "source": [
    "Las funciones pueden ser pasadas como argumento de otras funciones"
   ]
  },
  {
   "cell_type": "code",
   "execution_count": null,
   "id": "f2233e05",
   "metadata": {
    "slideshow": {
     "slide_type": "subslide"
    }
   },
   "outputs": [],
   "source": [
    "def app_func(func, x):\n",
    "    return func(x)\n",
    "\n",
    "result = app_func(square, 5)\n",
    "print(result)"
   ]
  },
  {
   "cell_type": "markdown",
   "id": "f5d207ee",
   "metadata": {
    "slideshow": {
     "slide_type": "slide"
    }
   },
   "source": [
    "**Funciones anónimas (Lambda)**\n",
    "\n",
    "\n",
    "\n",
    "\n",
    "Python tiene soporte para las llamadas funciones anónimas o lambda, que son una forma de escribir funciones que constan de una sola declaración, cuyo resultado es el valor de retorno. Se definen con la palabra clave lambda. Por ejemplo:\n",
    "```python\n",
    "f = lambda x: x * 2\n",
    "value = f(5)\n",
    "```\n",
    "En este caso, `f` es una función lambda que toma un argumento `x` y devuelve `x * 2`. Luego, llamamos a la función con el argumento `5`, y el resultado, `10`, se almacena en `value`."
   ]
  },
  {
   "cell_type": "code",
   "execution_count": null,
   "id": "2897dc03",
   "metadata": {
    "slideshow": {
     "slide_type": "subslide"
    }
   },
   "outputs": [],
   "source": [
    "add = lambda x, y: x + y\n",
    "\n",
    "add(3, 5)  "
   ]
  },
  {
   "cell_type": "code",
   "execution_count": null,
   "id": "6bd67a86",
   "metadata": {
    "slideshow": {
     "slide_type": "subslide"
    }
   },
   "outputs": [],
   "source": [
    "#El ejemplo anterior es equivalente a:\n",
    "def add2(x, y):\n",
    "    return x + y\n",
    "\n",
    "add2(3, 5)"
   ]
  },
  {
   "cell_type": "markdown",
   "id": "ce3f7405",
   "metadata": {
    "slideshow": {
     "slide_type": "slide"
    }
   },
   "source": [
    "Otros ejemplos"
   ]
  },
  {
   "cell_type": "code",
   "execution_count": null,
   "id": "b85069b1",
   "metadata": {
    "slideshow": {
     "slide_type": "subslide"
    }
   },
   "outputs": [],
   "source": [
    "square = lambda x: x ** 2\n",
    "square(4)  "
   ]
  },
  {
   "cell_type": "code",
   "execution_count": null,
   "id": "e31e105f",
   "metadata": {
    "slideshow": {
     "slide_type": "subslide"
    }
   },
   "outputs": [],
   "source": [
    "my_max = lambda x, y: x if x > y else y\n",
    "my_max(4, 8)"
   ]
  },
  {
   "cell_type": "markdown",
   "id": "14b99922",
   "metadata": {
    "slideshow": {
     "slide_type": "slide"
    }
   },
   "source": [
    "##### Ejercicios"
   ]
  },
  {
   "cell_type": "markdown",
   "id": "c8b25bc2",
   "metadata": {
    "slideshow": {
     "slide_type": "subslide"
    }
   },
   "source": [
    "**1-** Cree una funcon \"estandar\" y otra lambda que sumen dos numeros, asigne cada funciona una variable y utilicela"
   ]
  },
  {
   "cell_type": "code",
   "execution_count": null,
   "id": "499058e1",
   "metadata": {
    "slideshow": {
     "slide_type": "subslide"
    }
   },
   "outputs": [],
   "source": [
    "def adder(x, y):"
   ]
  },
  {
   "cell_type": "code",
   "execution_count": null,
   "id": "c4178ba4",
   "metadata": {
    "slideshow": {
     "slide_type": "subslide"
    }
   },
   "outputs": [],
   "source": [
    "adder2 = lambda "
   ]
  },
  {
   "cell_type": "markdown",
   "id": "c6e96f8f",
   "metadata": {
    "slideshow": {
     "slide_type": "slide"
    }
   },
   "source": [
    "**2-** Cree una función que sume 10 a un número, reuce la función anterior"
   ]
  },
  {
   "cell_type": "code",
   "execution_count": null,
   "id": "71e1c426",
   "metadata": {
    "slideshow": {
     "slide_type": "subslide"
    }
   },
   "outputs": [],
   "source": []
  },
  {
   "cell_type": "markdown",
   "id": "b71f28ce",
   "metadata": {
    "slideshow": {
     "slide_type": "slide"
    }
   },
   "source": [
    "** **3**- Cree una lista de tuplas, donde cada tupla contiene el nombre y la edad de una persona. \n",
    "\n",
    "Luego, defina una función que tome esta lista como argumento y devuelva la persona más joven y la más vieja en la lista. La función debe devolver una tupla con dos elementos.\n",
    "\n",
    "Finalmente,cree una nueva lista que contenga solo las personas mayores de 18 años."
   ]
  },
  {
   "cell_type": "code",
   "execution_count": null,
   "id": "64edf975",
   "metadata": {
    "slideshow": {
     "slide_type": "subslide"
    }
   },
   "outputs": [],
   "source": [
    "\n"
   ]
  },
  {
   "cell_type": "code",
   "execution_count": null,
   "id": "03ee943d",
   "metadata": {},
   "outputs": [],
   "source": []
  }
 ],
 "metadata": {
  "celltoolbar": "Slideshow",
  "kernelspec": {
   "display_name": "Python 3 (ipykernel)",
   "language": "python",
   "name": "python3"
  },
  "language_info": {
   "codemirror_mode": {
    "name": "ipython",
    "version": 3
   },
   "file_extension": ".py",
   "mimetype": "text/x-python",
   "name": "python",
   "nbconvert_exporter": "python",
   "pygments_lexer": "ipython3",
   "version": "3.9.12"
  }
 },
 "nbformat": 4,
 "nbformat_minor": 5
}
