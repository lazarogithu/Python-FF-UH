{
 "cells": [
  {
   "cell_type": "markdown",
   "id": "26c0a575",
   "metadata": {},
   "source": [
    "#### 1-  Dados dos diccionarios, actualiza los valores del otro diccionario si la clave está presente en el otro diccionario."
   ]
  },
  {
   "cell_type": "code",
   "execution_count": null,
   "id": "f43df1ac",
   "metadata": {},
   "outputs": [],
   "source": []
  },
  {
   "cell_type": "markdown",
   "id": "b95ef566",
   "metadata": {},
   "source": [
    "#### 2- Definir una función que tome una lista de tuplas que representan pares de estudiantes y sus calificaciones. La función debe devolver un diccionario donde las claves son los estudiantes y los valores son conjuntos de calificaciones.\n",
    "\n",
    "##### a)-  Usar una comprehension para crear un nuevo diccionario donde las claves son los estudiantes y los valores son las notas promedio."
   ]
  },
  {
   "cell_type": "code",
   "execution_count": null,
   "id": "f80ff764",
   "metadata": {},
   "outputs": [],
   "source": []
  },
  {
   "cell_type": "markdown",
   "id": "7824dc5b",
   "metadata": {},
   "source": [
    "#### 3- Definir una función que toma una lista de palabras y devuelve un diccionario de frecuencias de palabras.\n",
    "##### a) Usar una comprehension para crear una lista de tuplas donde cada tupla es una palabra y su frecuencia."
   ]
  },
  {
   "cell_type": "code",
   "execution_count": null,
   "id": "14a267e0",
   "metadata": {},
   "outputs": [],
   "source": []
  },
  {
   "cell_type": "markdown",
   "id": "4efa333e",
   "metadata": {},
   "source": [
    "##### 4- Función para crear de un gráfico de barras a partir de un diccionario de frecuencias."
   ]
  },
  {
   "cell_type": "code",
   "execution_count": 2,
   "id": "9eab393d",
   "metadata": {},
   "outputs": [
    {
     "data": {
      "image/png": "[encoded data removed]",
      "text/plain": [
       "<Figure size 640x480 with 1 Axes>"
      ]
     },
     "metadata": {},
     "output_type": "display_data"
    }
   ],
   "source": [
    "# Importar el módulo matplotlib\n",
    "import matplotlib.pyplot as plt\n",
    "\n",
    "# Definir una función que toma un diccionario de frecuencias y crea un gráfico de barras.\n",
    "def graficar_frecuencias(diccionario):\n",
    "    # Crear listas para las etiquetas y los valores\n",
    "    etiquetas = list(diccionario.keys())\n",
    "    valores = list(diccionario.values())\n",
    "    \n",
    "    # Crear el gráfico de barras\n",
    "    plt.bar(etiquetas, valores)\n",
    "    \n",
    "    # Mostrar el gráfico\n",
    "    plt.show()\n",
    "\n",
    "# Diccionario de frecuencias\n",
    "frecuencias = {'manzana': 3, 'banana': 6, 'cereza': 1}\n",
    "\n",
    "# Llamar a la función graficar_frecuencias con el diccionario de frecuencias\n",
    "graficar_frecuencias(frecuencias)"
   ]
  },
  {
   "cell_type": "code",
   "execution_count": null,
   "id": "872a1213",
   "metadata": {},
   "outputs": [],
   "source": []
  }
 ],
 "metadata": {
  "kernelspec": {
   "display_name": "Python 3 (ipykernel)",
   "language": "python",
   "name": "python3"
  },
  "language_info": {
   "codemirror_mode": {
    "name": "ipython",
    "version": 3
   },
   "file_extension": ".py",
   "mimetype": "text/x-python",
   "name": "python",
   "nbconvert_exporter": "python",
   "pygments_lexer": "ipython3",
   "version": "3.9.12"
  }
 },
 "nbformat": 4,
 "nbformat_minor": 5
}
