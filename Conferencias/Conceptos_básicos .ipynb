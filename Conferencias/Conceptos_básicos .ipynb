{
 "cells": [
  {
   "cell_type": "markdown",
   "id": "813e1665",
   "metadata": {},
   "source": [
    "# Tema 1: Conceptos básicos de Python\n",
    "\n",
    "\n",
    "- Semántica de Python \n",
    "\n",
    "\n",
    "\n",
    "- Tipos escalares\n",
    "\n"
   ]
  },
  {
   "cell_type": "markdown",
   "id": "8abeccfd",
   "metadata": {},
   "source": [
    "**Indentación, no llaves**\n",
    "\n",
    "\n",
    "\n",
    "\n",
    "Python utiliza espacios en blanco (tabulaciones o espacios) para estructurar el código en lugar de usar llaves como en muchos otros lenguajes"
   ]
  },
  {
   "cell_type": "code",
   "execution_count": null,
   "id": "3887ad05",
   "metadata": {},
   "outputs": [],
   "source": [
    "  for x in [1,2,3]:\n",
    "    if x < 2:\n",
    "        x+=x\n",
    "    else:\n",
    "        x-=x\n",
    "    print(x)      "
   ]
  },
  {
   "cell_type": "markdown",
   "id": "078efa5b",
   "metadata": {},
   "source": [
    "- Las declaraciones en Python no necesitan ser terminadas con punto y coma \n",
    "\n",
    "\n",
    "\n",
    "\n",
    "\n",
    "\n",
    "- Los puntos y coma se pueden usar para separar múltiples declaraciones en una sola línea. *Poner múltiples declaraciones en una línea generalmente se desaconseja en Python ya que a menudo hace que el código sea menos legible*\n",
    "\n"
   ]
  },
  {
   "cell_type": "code",
   "execution_count": null,
   "id": "a74d49bc",
   "metadata": {},
   "outputs": [],
   "source": [
    "a = 5; b = 6; c = 7"
   ]
  },
  {
   "cell_type": "markdown",
   "id": "894f8b17",
   "metadata": {},
   "source": [
    "**Todo es un objeto**\n",
    "- Cada número, cadena, estructura de datos, función, clase, módulo, etc., existe en el intérprete de Python en su propia “caja”, a la que se hace referencia como un objeto Python. Cada objeto tiene un tipo asociado (por ejemplo, cadena o función) y datos internos. En la práctica, esto hace que el lenguaje sea muy flexible, ya que incluso las funciones pueden ser tratadas como cualquier otro objeto"
   ]
  },
  {
   "cell_type": "markdown",
   "id": "a7acb7fd",
   "metadata": {},
   "source": [
    "- Casi todos los objetos en Python tienen funciones adjuntas, conocidas como métodos, que tienen acceso al contenido interno del objeto. Puedes llamarlos usando la siguiente sintaxis: obj.some_method(x, y, z) Las funciones pueden tomar argumentos posicionales y de palabras clave: result = f(a, b, c, d=5, e=‘foo’) "
   ]
  },
  {
   "cell_type": "markdown",
   "id": "58dee02d",
   "metadata": {},
   "source": [
    "**Variables y paso de argumentos** \n",
    "\n",
    "Cuando se asigna una variable en Python, se crea una referencia al objeto en el lado derecho "
   ]
  },
  {
   "cell_type": "code",
   "execution_count": null,
   "id": "e19a6c27",
   "metadata": {},
   "outputs": [],
   "source": [
    "a = [1, 2, 3]"
   ]
  },
  {
   "cell_type": "markdown",
   "id": "0f465b33",
   "metadata": {},
   "source": [
    "Supongamos que asignamos a a una nueva variable b. En algunos lenguajes, esta asignación haría que los datos se copiaran. En Python, a y b en realidad ahora se refieren al mismo objeto, la lista original"
   ]
  },
  {
   "cell_type": "code",
   "execution_count": null,
   "id": "fd01eec1",
   "metadata": {},
   "outputs": [],
   "source": [
    "b = a\n",
    "a.append(4)\n",
    "b"
   ]
  },
  {
   "cell_type": "markdown",
   "id": "c6f6a99e",
   "metadata": {},
   "source": [
    "Cuando se pasan objetos como argumentos a una función, se crean nuevas variables locales que hacen referencia a los objetos originales sin ninguna copia. Si se vincula un nuevo objeto a una variable dentro de una función, ese cambio no se reflejará en el ámbito principal."
   ]
  },
  {
   "cell_type": "code",
   "execution_count": null,
   "id": "067c63c2",
   "metadata": {},
   "outputs": [],
   "source": [
    "def append_element(some_list, element):\n",
    "    some_list.append(element)"
   ]
  },
  {
   "cell_type": "markdown",
   "id": "051af223",
   "metadata": {},
   "source": [
    "-Sin embargo, es posible alterar los componentes internos de un argumento mutable"
   ]
  },
  {
   "cell_type": "code",
   "execution_count": null,
   "id": "bcad98a9",
   "metadata": {},
   "outputs": [],
   "source": [
    "data = [1, 2, 3]\n",
    "append_element(data, 4)\n",
    "data"
   ]
  },
  {
   "cell_type": "markdown",
   "id": "c56f2819",
   "metadata": {},
   "source": [
    "**Referencias dinámicas, strong types**\n",
    "\n",
    "\n",
    "A diferencia de muchos lenguajes compilados, como C++, las referencias a objetos en Python no tienen ningún tipo asociado con ellas"
   ]
  },
  {
   "cell_type": "code",
   "execution_count": null,
   "id": "6c4314fd",
   "metadata": {},
   "outputs": [],
   "source": [
    "a = 5\n",
    "print(type(a))\n",
    "a = \"Python\"\n",
    "print(type(a))"
   ]
  },
  {
   "cell_type": "markdown",
   "id": "c434b7b9",
   "metadata": {},
   "source": [
    "- Las variables son nombres para objetos; la información del tipo se almacena en el propio objeto. Python no es un “lenguaje tipado”."
   ]
  },
  {
   "cell_type": "code",
   "execution_count": null,
   "id": "ac6d7184",
   "metadata": {},
   "outputs": [],
   "source": [
    "'5' + 5"
   ]
  },
  {
   "cell_type": "markdown",
   "id": "320f3894",
   "metadata": {},
   "source": [
    "**Módulos, import**\n",
    "\n",
    "- En Python, un módulo es simplemente un archivo con la extensión .py que contiene código Python.\n",
    "- Si quisiéramos acceder a las variables y funciones definidas en algun_modulo.py, desde otro archivo en el mismo directorio podríamos hacer:"
   ]
  },
  {
   "cell_type": "code",
   "execution_count": null,
   "id": "ccc03ad3",
   "metadata": {},
   "outputs": [],
   "source": [
    "import algun_modulo\n",
    "\n",
    "resultado = algun_modulo.f(5)\n",
    "pi = algun_modulo.PI"
   ]
  },
  {
   "cell_type": "markdown",
   "id": "68e86879",
   "metadata": {},
   "source": [
    "De forma equivalente"
   ]
  },
  {
   "cell_type": "code",
   "execution_count": null,
   "id": "ca5d77e0",
   "metadata": {},
   "outputs": [],
   "source": [
    "from algun_modulo import f, g, PI\n",
    "\n",
    "resultado = g(5, PI)"
   ]
  },
  {
   "cell_type": "markdown",
   "id": "03c34449",
   "metadata": {},
   "source": [
    "Al usar la palabra clave *as*, puedes dar a las importaciones diferentes nombres de uso"
   ]
  },
  {
   "cell_type": "code",
   "execution_count": null,
   "id": "a03961d2",
   "metadata": {},
   "outputs": [],
   "source": [
    "import some_module as sm\n",
    "from some_module import PI as pi, g as gf\n",
    "\n",
    "r1 = sm.f(pi)\n",
    "r2 = gf(6, pi)"
   ]
  },
  {
   "cell_type": "markdown",
   "id": "098966fc",
   "metadata": {},
   "source": [
    "**Operadores binarios y comparaciones:** La mayoría de las operaciones matemáticas binarias y comparaciones son como podrías esperar\n",
    "\n",
    "\n",
    "\n",
    "       Operación\tDescripción\n",
    "        a + b\t    Suma a y b\n",
    "        a - b\t    Resta b de a\n",
    "        a * b\t    Multiplica a por b\n",
    "        a / b\t    Divide a entre b\n",
    "        a // b\t   Divide a entre b, descartando cualquier residuo fraccional\n",
    "        a ** b\t   Eleva a a la potencia de b\n",
    "        a & b\t    Verdadero si tanto a como b son verdaderos\n",
    "        a | b\t    Verdadero si a o b es verdadero\n",
    "        a ^ b\t    Para booleanos, verdadero si a o b es verdadero"
   ]
  },
  {
   "cell_type": "markdown",
   "id": "fd58b17f",
   "metadata": {},
   "source": [
    "#### Tipos Escalares \n",
    "\n",
    "Python, tiene un pequeño conjunto de tipos incorporados para manejar datos numéricos, cadenas, valores booleanos y fechas y horas. Estos tipos de “valor único”, nos referimos a ellos como escalares. "
   ]
  },
  {
   "cell_type": "markdown",
   "id": "b5938642",
   "metadata": {},
   "source": [
    "**Tipos Numéricos** \n",
    "\n",
    "\n",
    "\n",
    "- Los tipos principales de Python para números son int y float. Un int puede almacenar números arbitrariamente grandes:"
   ]
  },
  {
   "cell_type": "code",
   "execution_count": 23,
   "id": "59e5fd03",
   "metadata": {},
   "outputs": [
    {
     "data": {
      "text/plain": [
       "26254528337092103458407651654948387939145589583153676801"
      ]
     },
     "execution_count": 23,
     "metadata": {},
     "output_type": "execute_result"
    }
   ],
   "source": [
    "ival = 1723987199\n",
    "ival**6"
   ]
  },
  {
   "cell_type": "markdown",
   "id": "1577539c",
   "metadata": {},
   "source": [
    "- Los números de punto flotante se representan con el tipo float de Python. Internamente, cada uno es un valor de doble precisión (64 bits). También pueden expresarse con notación científica:"
   ]
  },
  {
   "cell_type": "code",
   "execution_count": null,
   "id": "a8effeb1",
   "metadata": {},
   "outputs": [],
   "source": [
    "fval = 7.243\n",
    "fval2 = 6.78e-5"
   ]
  },
  {
   "cell_type": "markdown",
   "id": "a073a69a",
   "metadata": {},
   "source": [
    "- La división de enteros que no resulta en un número entero siempre producirá un número de punto flotante"
   ]
  },
  {
   "cell_type": "markdown",
   "id": "27c55873",
   "metadata": {},
   "source": [
    "**Strings** (cadenas) \n",
    "\n",
    "\n",
    "\n",
    "Python cuenta con flexibles capacidades de procesamiento de strings incorporadas. Puedes escribir strings utilizando comillas simples ’ o comillas dobles \"\n"
   ]
  },
  {
   "cell_type": "code",
   "execution_count": 29,
   "id": "11fad68e",
   "metadata": {},
   "outputs": [],
   "source": [
    "a = 'una forma de escribir una cadena' \n",
    "b = \"otra forma\"\n",
    "c = \"\"\" Esta es una \n",
    "    cadena más \n",
    "    larga que \n",
    "    abarca varias líneas \"\"\""
   ]
  },
  {
   "cell_type": "markdown",
   "id": "295f680e",
   "metadata": {},
   "source": [
    "Los strings de Python son inmutables, no se pueden modificar\n",
    "\n",
    "\n",
    "\n",
    "Muchos objetos de Python se pueden convertir a una cadena utilizando la función str"
   ]
  },
  {
   "cell_type": "code",
   "execution_count": null,
   "id": "e1cc9bda",
   "metadata": {},
   "outputs": [],
   "source": [
    "a = 5.6\n",
    "s = str(a)\n",
    "s"
   ]
  },
  {
   "cell_type": "markdown",
   "id": "e32db916",
   "metadata": {},
   "source": [
    "Las cadenas son una secuencia de caracteres Unicode y, por lo tanto, se pueden tratar como otras secuencias, como listas y tuplas (que exploraremos con más detalle en el curso)"
   ]
  },
  {
   "cell_type": "code",
   "execution_count": null,
   "id": "c7203f4f",
   "metadata": {},
   "outputs": [],
   "source": [
    "s = 'python'\n",
    "list(s)"
   ]
  },
  {
   "cell_type": "code",
   "execution_count": null,
   "id": "4ac8c555",
   "metadata": {},
   "outputs": [],
   "source": [
    "s[:3] "
   ]
  },
  {
   "cell_type": "markdown",
   "id": "9ba077a8",
   "metadata": {},
   "source": [
    "**Booleanos**\n",
    "\n",
    "\n",
    "- Los dos valores booleanos en Python se escriben como True y False. Las comparaciones y otras expresiones condicionales se evalúan como True o False. Los valores booleanos se combinan con las palabras clave and y or:"
   ]
  },
  {
   "cell_type": "code",
   "execution_count": null,
   "id": "10f532a5",
   "metadata": {},
   "outputs": [],
   "source": [
    "True and True"
   ]
  },
  {
   "cell_type": "code",
   "execution_count": null,
   "id": "c371a34f",
   "metadata": {},
   "outputs": [],
   "source": [
    "False or True"
   ]
  },
  {
   "cell_type": "markdown",
   "id": "2eba0a21",
   "metadata": {},
   "source": [
    "**None** \n",
    "\n",
    "\n",
    "- None es el tipo de valor nulo de Python. Si una función no devuelve explícitamente un valor, devuelve implícitamente None\n",
    "\n",
    "\n",
    "\n",
    "\n",
    "None también es un valor predeterminado común para los argumentos de las funciones:"
   ]
  },
  {
   "cell_type": "code",
   "execution_count": 40,
   "id": "39b2a733",
   "metadata": {},
   "outputs": [],
   "source": [
    "def suma_y_talvez_multiplica(a, b, c = None):\n",
    "    result = a + b\n",
    "    if c is not None:\n",
    "        result = result * c\n",
    "    return result"
   ]
  }
 ],
 "metadata": {
  "kernelspec": {
   "display_name": "Python 3 (ipykernel)",
   "language": "python",
   "name": "python3"
  },
  "language_info": {
   "codemirror_mode": {
    "name": "ipython",
    "version": 3
   },
   "file_extension": ".py",
   "mimetype": "text/x-python",
   "name": "python",
   "nbconvert_exporter": "python",
   "pygments_lexer": "ipython3",
   "version": "3.9.12"
  }
 },
 "nbformat": 4,
 "nbformat_minor": 5
}
