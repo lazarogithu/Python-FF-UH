{
 "cells": [
  {
   "cell_type": "markdown",
   "id": "bce2ab57",
   "metadata": {
    "slideshow": {
     "slide_type": "slide"
    }
   },
   "source": [
    "## Tema 2: Estructuras de datos. Funciones.\n",
    "\n",
    "\n",
    "\n",
    "- Estructuras de datos y secuencias\n",
    "\n",
    "\n",
    "\n",
    "\n",
    "- Tuplas \n",
    "\n",
    "\n",
    "\n",
    "- Listas\n",
    "\n",
    "\n",
    "\n",
    "\n",
    "- Funciones de secuencia incorporadas"
   ]
  },
  {
   "cell_type": "markdown",
   "id": "9fcdd51e",
   "metadata": {
    "slideshow": {
     "slide_type": "slide"
    }
   },
   "source": [
    "- *Las estructuras de datos de Python son simples pero poderosas. Dominar su uso es una parte crítica para programar en Python de forma competente*\n",
    "\n",
    "\n",
    "\n",
    "\n",
    "\n",
    "**Tuplas**\n",
    "\n",
    "\n",
    "\n",
    "\n",
    "Una tupla es una secuencia inmutable de longitud fija de objetos. La forma más fácil de crear una es con una secuencia de valores separados por comas"
   ]
  },
  {
   "cell_type": "code",
   "execution_count": 1,
   "id": "38258be1",
   "metadata": {
    "slideshow": {
     "slide_type": "subslide"
    }
   },
   "outputs": [
    {
     "data": {
      "text/plain": [
       "(4, 5, 6)"
      ]
     },
     "execution_count": 1,
     "metadata": {},
     "output_type": "execute_result"
    }
   ],
   "source": [
    "tup = 4, 5, 6\n",
    "tup"
   ]
  },
  {
   "cell_type": "markdown",
   "id": "7507f1d4",
   "metadata": {
    "slideshow": {
     "slide_type": "slide"
    }
   },
   "source": [
    "- Cuando se definen tuplas en expresiones más complicadas, a menudo es necesario encerrar los valores entre paréntesis"
   ]
  },
  {
   "cell_type": "code",
   "execution_count": 2,
   "id": "1e4fc8a3",
   "metadata": {
    "slideshow": {
     "slide_type": "subslide"
    }
   },
   "outputs": [
    {
     "data": {
      "text/plain": [
       "((4, 5, 6), (7, 8))"
      ]
     },
     "execution_count": 2,
     "metadata": {},
     "output_type": "execute_result"
    }
   ],
   "source": [
    "tup_anidada = (4, 5, 6), (7, 8)\n",
    "tup_anidada"
   ]
  },
  {
   "cell_type": "markdown",
   "id": "e9a594fe",
   "metadata": {
    "slideshow": {
     "slide_type": "slide"
    }
   },
   "source": [
    "Puedes convertir cualquier secuencia o iterador en una tupla invocando `tuple`"
   ]
  },
  {
   "cell_type": "code",
   "execution_count": 3,
   "id": "50850ea0",
   "metadata": {
    "slideshow": {
     "slide_type": "subslide"
    }
   },
   "outputs": [
    {
     "data": {
      "text/plain": [
       "(4, 0, 2)"
      ]
     },
     "execution_count": 3,
     "metadata": {},
     "output_type": "execute_result"
    }
   ],
   "source": [
    "tup = tuple([4, 0, 2])\n",
    "tup"
   ]
  },
  {
   "cell_type": "code",
   "execution_count": 4,
   "id": "869d7d1a",
   "metadata": {
    "slideshow": {
     "slide_type": "subslide"
    }
   },
   "outputs": [
    {
     "data": {
      "text/plain": [
       "('s', 't', 'r', 'i', 'n', 'g')"
      ]
     },
     "execution_count": 4,
     "metadata": {},
     "output_type": "execute_result"
    }
   ],
   "source": [
    "tup = tuple('string')\n",
    "tup"
   ]
  },
  {
   "cell_type": "markdown",
   "id": "3f6a3653",
   "metadata": {
    "slideshow": {
     "slide_type": "slide"
    }
   },
   "source": [
    "- Los elementos se pueden acceder con corchetes [] como con la mayoría de los otros tipos de secuencias. Al igual que en C, C++, Java y muchos otros lenguajes, las secuencias están indexadas a 0 en Python"
   ]
  },
  {
   "cell_type": "code",
   "execution_count": 5,
   "id": "aea1f7b5",
   "metadata": {
    "slideshow": {
     "slide_type": "subslide"
    }
   },
   "outputs": [
    {
     "data": {
      "text/plain": [
       "'s'"
      ]
     },
     "execution_count": 5,
     "metadata": {},
     "output_type": "execute_result"
    }
   ],
   "source": [
    "tup[0]"
   ]
  },
  {
   "cell_type": "markdown",
   "id": "b9cb564d",
   "metadata": {
    "slideshow": {
     "slide_type": "subslide"
    }
   },
   "source": [
    "- Aunque los objetos almacenados en una tupla pueden ser mutables por sí mismos, una vez que se crea la tupla, no es posible modificar qué objeto se almacena en cada \"ranura\""
   ]
  },
  {
   "cell_type": "code",
   "execution_count": 6,
   "id": "920bca20",
   "metadata": {
    "slideshow": {
     "slide_type": "subslide"
    }
   },
   "outputs": [
    {
     "ename": "TypeError",
     "evalue": "'tuple' object does not support item assignment",
     "output_type": "error",
     "traceback": [
      "\u001b[0;31m---------------------------------------------------------------------------\u001b[0m",
      "\u001b[0;31mTypeError\u001b[0m                                 Traceback (most recent call last)",
      "\u001b[0;32m/tmp/ipykernel_34016/211141333.py\u001b[0m in \u001b[0;36m<module>\u001b[0;34m\u001b[0m\n\u001b[1;32m      1\u001b[0m \u001b[0mtup\u001b[0m \u001b[0;34m=\u001b[0m \u001b[0mtuple\u001b[0m\u001b[0;34m(\u001b[0m\u001b[0;34m[\u001b[0m\u001b[0;34m'foo'\u001b[0m\u001b[0;34m,\u001b[0m \u001b[0;34m[\u001b[0m\u001b[0;36m1\u001b[0m\u001b[0;34m,\u001b[0m \u001b[0;36m2\u001b[0m\u001b[0;34m]\u001b[0m\u001b[0;34m,\u001b[0m \u001b[0;32mTrue\u001b[0m\u001b[0;34m]\u001b[0m\u001b[0;34m)\u001b[0m\u001b[0;34m\u001b[0m\u001b[0;34m\u001b[0m\u001b[0m\n\u001b[0;32m----> 2\u001b[0;31m \u001b[0mtup\u001b[0m\u001b[0;34m[\u001b[0m\u001b[0;36m2\u001b[0m\u001b[0;34m]\u001b[0m \u001b[0;34m=\u001b[0m \u001b[0;32mFalse\u001b[0m\u001b[0;34m\u001b[0m\u001b[0;34m\u001b[0m\u001b[0m\n\u001b[0m",
      "\u001b[0;31mTypeError\u001b[0m: 'tuple' object does not support item assignment"
     ]
    }
   ],
   "source": [
    "tup = tuple(['foo', [1, 2], True])\n",
    "tup[2] = False"
   ]
  },
  {
   "cell_type": "markdown",
   "id": "7743e788",
   "metadata": {
    "slideshow": {
     "slide_type": "slide"
    }
   },
   "source": [
    "- Si un objeto dentro de una tupla es mutable, como una lista, puedes modificarlo en su lugar"
   ]
  },
  {
   "cell_type": "code",
   "execution_count": null,
   "id": "e51285fd",
   "metadata": {
    "slideshow": {
     "slide_type": "subslide"
    }
   },
   "outputs": [],
   "source": [
    "tup[1].append(3)\n",
    "tup"
   ]
  },
  {
   "cell_type": "markdown",
   "id": "9242feb1",
   "metadata": {
    "slideshow": {
     "slide_type": "subslide"
    }
   },
   "source": [
    "- Puedes concatenar tuplas usando el operador + para producir tuplas más largas"
   ]
  },
  {
   "cell_type": "code",
   "execution_count": 7,
   "id": "cbbdcb6b",
   "metadata": {
    "slideshow": {
     "slide_type": "subslide"
    }
   },
   "outputs": [
    {
     "data": {
      "text/plain": [
       "(4, None, 'foo', 6, 0, 'bar')"
      ]
     },
     "execution_count": 7,
     "metadata": {},
     "output_type": "execute_result"
    }
   ],
   "source": [
    "(4, None, 'foo') + (6, 0) + ('bar',)"
   ]
  },
  {
   "cell_type": "markdown",
   "id": "e6fa8dc7",
   "metadata": {
    "slideshow": {
     "slide_type": "slide"
    }
   },
   "source": [
    "- Multiplicar una tupla por un entero, como con las listas, tiene el efecto de concatenar juntas tantas copias de la tupla"
   ]
  },
  {
   "cell_type": "code",
   "execution_count": 8,
   "id": "a88576c5",
   "metadata": {
    "slideshow": {
     "slide_type": "subslide"
    }
   },
   "outputs": [
    {
     "data": {
      "text/plain": [
       "('foo', 'bar', 'foo', 'bar', 'foo', 'bar', 'foo', 'bar')"
      ]
     },
     "execution_count": 8,
     "metadata": {},
     "output_type": "execute_result"
    }
   ],
   "source": [
    "('foo', 'bar') * 4"
   ]
  },
  {
   "cell_type": "markdown",
   "id": "85f9c187",
   "metadata": {
    "slideshow": {
     "slide_type": "subslide"
    }
   },
   "source": [
    "- Al asignar a una expresión de variables similar a una tupla, Python intentará desestructurar el valor en el lado derecho del signo igual"
   ]
  },
  {
   "cell_type": "code",
   "execution_count": 9,
   "id": "9b7b8155",
   "metadata": {
    "slideshow": {
     "slide_type": "subslide"
    }
   },
   "outputs": [
    {
     "data": {
      "text/plain": [
       "5"
      ]
     },
     "execution_count": 9,
     "metadata": {},
     "output_type": "execute_result"
    }
   ],
   "source": [
    "tup = (4, 5, 6)\n",
    "a, b, c = tup\n",
    "b"
   ]
  },
  {
   "cell_type": "markdown",
   "id": "c23aa698",
   "metadata": {
    "slideshow": {
     "slide_type": "subslide"
    }
   },
   "source": [
    "- incluso secuencias con tuplas anidadas pueden ser desempaquetadas"
   ]
  },
  {
   "cell_type": "code",
   "execution_count": 10,
   "id": "fc31d698",
   "metadata": {
    "slideshow": {
     "slide_type": "subslide"
    }
   },
   "outputs": [
    {
     "data": {
      "text/plain": [
       "7"
      ]
     },
     "execution_count": 10,
     "metadata": {},
     "output_type": "execute_result"
    }
   ],
   "source": [
    "tup = 4, 5, (6, 7)\n",
    "a, b, (c, d) = tup\n",
    "d"
   ]
  },
  {
   "cell_type": "markdown",
   "id": "07337159",
   "metadata": {
    "slideshow": {
     "slide_type": "slide"
    }
   },
   "source": [
    "- Un uso común del desestructurado de variables es iterar sobre secuencias de tuplas o listas"
   ]
  },
  {
   "cell_type": "code",
   "execution_count": 11,
   "id": "1bb2f2ff",
   "metadata": {
    "slideshow": {
     "slide_type": "subslide"
    }
   },
   "outputs": [
    {
     "name": "stdout",
     "output_type": "stream",
     "text": [
      "a = 1, b = 2, c = 3\n",
      "a = 4, b = 5, c = 6\n",
      "a = 7, b = 8, c = 9\n"
     ]
    }
   ],
   "source": [
    "seq = [(1, 2, 3), (4, 5, 6), (7, 8, 9)]\n",
    "for a, b, c in seq:\n",
    "    print('a = {0}, b = {1}, c = {2}'.format(a, b, c))"
   ]
  },
  {
   "cell_type": "markdown",
   "id": "5899039d",
   "metadata": {
    "slideshow": {
     "slide_type": "subslide"
    }
   },
   "source": [
    "- Dado que el tamaño y el contenido de una tupla no pueden modificarse, estas cuentan con pocos métodos propios. Uno particularmente útil (también disponible en listas) es *count*, que cuenta el número de ocurrencias de un valor"
   ]
  },
  {
   "cell_type": "code",
   "execution_count": 12,
   "id": "d501b6bc",
   "metadata": {
    "slideshow": {
     "slide_type": "subslide"
    }
   },
   "outputs": [
    {
     "data": {
      "text/plain": [
       "4"
      ]
     },
     "execution_count": 12,
     "metadata": {},
     "output_type": "execute_result"
    }
   ],
   "source": [
    "a = (1, 2, 2, 2, 3, 4, 2)\n",
    "a.count(2)"
   ]
  },
  {
   "cell_type": "markdown",
   "id": "60b2990c",
   "metadata": {
    "slideshow": {
     "slide_type": "slide"
    }
   },
   "source": [
    "**Listas**\n",
    "\n",
    "\n",
    "A diferencia de las tuplas, las listas tienen una longitud variable y su contenido puede ser modificado en el lugar. Puedes definirlas usando corchetes [] o usando la función de tipo lista. "
   ]
  },
  {
   "cell_type": "code",
   "execution_count": 13,
   "id": "87aef4b5",
   "metadata": {
    "slideshow": {
     "slide_type": "subslide"
    }
   },
   "outputs": [
    {
     "data": {
      "text/plain": [
       "['a', 'd', 'c']"
      ]
     },
     "execution_count": 13,
     "metadata": {},
     "output_type": "execute_result"
    }
   ],
   "source": [
    "lista_a = [2, 3, 7, None]\n",
    "tup = ('a', 'b', 'c')\n",
    "lista_b = list(tup)\n",
    "lista_b[1] = 'd'\n",
    "lista_b"
   ]
  },
  {
   "cell_type": "markdown",
   "id": "06bff1f1",
   "metadata": {
    "slideshow": {
     "slide_type": "slide"
    }
   },
   "source": [
    "- Las listas y las tuplas son semánticamente similares (aunque las tuplas no pueden ser modificadas) y pueden ser utilizadas de manera intercambiable en muchas funciones.\n",
    "\n",
    "\n",
    "- La función de lista se utiliza con frecuencia en el procesamiento de datos como una forma de materializar una expresión de iterador o generador"
   ]
  },
  {
   "cell_type": "code",
   "execution_count": 14,
   "id": "161e2561",
   "metadata": {
    "slideshow": {
     "slide_type": "subslide"
    }
   },
   "outputs": [],
   "source": [
    "gen = range(10)"
   ]
  },
  {
   "cell_type": "code",
   "execution_count": 15,
   "id": "29374ddb",
   "metadata": {
    "slideshow": {
     "slide_type": "subslide"
    }
   },
   "outputs": [
    {
     "data": {
      "text/plain": [
       "range(0, 10)"
      ]
     },
     "execution_count": 15,
     "metadata": {},
     "output_type": "execute_result"
    }
   ],
   "source": [
    "gen"
   ]
  },
  {
   "cell_type": "code",
   "execution_count": 16,
   "id": "f5d0bef7",
   "metadata": {
    "slideshow": {
     "slide_type": "subslide"
    }
   },
   "outputs": [
    {
     "data": {
      "text/plain": [
       "[0, 1, 2, 3, 4, 5, 6, 7, 8, 9]"
      ]
     },
     "execution_count": 16,
     "metadata": {},
     "output_type": "execute_result"
    }
   ],
   "source": [
    "list(gen)"
   ]
  },
  {
   "cell_type": "markdown",
   "id": "5850b5f2",
   "metadata": {
    "slideshow": {
     "slide_type": "slide"
    }
   },
   "source": [
    "- Los elementos se pueden agregar al final de la lista con el método `append`"
   ]
  },
  {
   "cell_type": "code",
   "execution_count": 17,
   "id": "f5134936",
   "metadata": {
    "slideshow": {
     "slide_type": "subslide"
    }
   },
   "outputs": [],
   "source": [
    "lista_b.append('e')"
   ]
  },
  {
   "cell_type": "code",
   "execution_count": 18,
   "id": "476a213d",
   "metadata": {
    "slideshow": {
     "slide_type": "skip"
    }
   },
   "outputs": [
    {
     "data": {
      "text/plain": [
       "['a', 'd', 'c', 'e']"
      ]
     },
     "execution_count": 18,
     "metadata": {},
     "output_type": "execute_result"
    }
   ],
   "source": [
    "lista_b"
   ]
  },
  {
   "cell_type": "markdown",
   "id": "01508e14",
   "metadata": {
    "slideshow": {
     "slide_type": "subslide"
    }
   },
   "source": [
    "- Usando `insert`, puedes insertar un elemento en una ubicación específica de la lista."
   ]
  },
  {
   "cell_type": "code",
   "execution_count": 19,
   "id": "8c67fab7",
   "metadata": {
    "slideshow": {
     "slide_type": "subslide"
    }
   },
   "outputs": [],
   "source": [
    "lista_b.insert(1, 'palabra')"
   ]
  },
  {
   "cell_type": "code",
   "execution_count": 20,
   "id": "7c3f365b",
   "metadata": {
    "slideshow": {
     "slide_type": "skip"
    }
   },
   "outputs": [
    {
     "data": {
      "text/plain": [
       "['a', 'palabra', 'd', 'c', 'e']"
      ]
     },
     "execution_count": 20,
     "metadata": {},
     "output_type": "execute_result"
    }
   ],
   "source": [
    "lista_b"
   ]
  },
  {
   "cell_type": "markdown",
   "id": "9699695a",
   "metadata": {
    "slideshow": {
     "slide_type": "slide"
    }
   },
   "source": [
    "- La operación inversa a `insert` es `pop`, que elimina y devuelve un elemento en un índice en particular"
   ]
  },
  {
   "cell_type": "code",
   "execution_count": 21,
   "id": "601932a7",
   "metadata": {
    "slideshow": {
     "slide_type": "subslide"
    }
   },
   "outputs": [
    {
     "data": {
      "text/plain": [
       "'d'"
      ]
     },
     "execution_count": 21,
     "metadata": {},
     "output_type": "execute_result"
    }
   ],
   "source": [
    "lista_b.pop(2)"
   ]
  },
  {
   "cell_type": "code",
   "execution_count": 22,
   "id": "ae062278",
   "metadata": {
    "slideshow": {
     "slide_type": "skip"
    }
   },
   "outputs": [
    {
     "data": {
      "text/plain": [
       "['a', 'palabra', 'c', 'e']"
      ]
     },
     "execution_count": 22,
     "metadata": {},
     "output_type": "execute_result"
    }
   ],
   "source": [
    "lista_b"
   ]
  },
  {
   "cell_type": "markdown",
   "id": "43e3080d",
   "metadata": {
    "slideshow": {
     "slide_type": "subslide"
    }
   },
   "source": [
    "- Los elementos se pueden eliminar por valor con `remove`"
   ]
  },
  {
   "cell_type": "code",
   "execution_count": 23,
   "id": "1d06b2fd",
   "metadata": {
    "slideshow": {
     "slide_type": "subslide"
    }
   },
   "outputs": [],
   "source": [
    "lista_b.append('z')"
   ]
  },
  {
   "cell_type": "code",
   "execution_count": 24,
   "id": "adc82787",
   "metadata": {
    "slideshow": {
     "slide_type": "subslide"
    }
   },
   "outputs": [],
   "source": [
    "lista_b.remove('z')"
   ]
  },
  {
   "cell_type": "code",
   "execution_count": 25,
   "id": "5a18afd8",
   "metadata": {
    "slideshow": {
     "slide_type": "skip"
    }
   },
   "outputs": [
    {
     "data": {
      "text/plain": [
       "['a', 'palabra', 'c', 'e']"
      ]
     },
     "execution_count": 25,
     "metadata": {},
     "output_type": "execute_result"
    }
   ],
   "source": [
    "lista_b"
   ]
  },
  {
   "cell_type": "markdown",
   "id": "18b699cf",
   "metadata": {
    "slideshow": {
     "slide_type": "slide"
    }
   },
   "source": [
    "- Si el rendimiento no es una preocupación, al usar `append` y `remove`, puedes usar una lista de Python como una estructura de datos \"multiconjunto\" perfectamente adecuada. \n",
    "\n",
    "\n",
    "\n",
    "\n",
    "- Se puedes verificar si una lista contiene un valor usando la pal|abra clave `in`\n"
   ]
  },
  {
   "cell_type": "code",
   "execution_count": 26,
   "id": "05fd504d",
   "metadata": {
    "slideshow": {
     "slide_type": "subslide"
    }
   },
   "outputs": [
    {
     "data": {
      "text/plain": [
       "True"
      ]
     },
     "execution_count": 26,
     "metadata": {},
     "output_type": "execute_result"
    }
   ],
   "source": [
    "'a' in lista_b"
   ]
  },
  {
   "cell_type": "code",
   "execution_count": 27,
   "id": "52b860b3",
   "metadata": {
    "slideshow": {
     "slide_type": "subslide"
    }
   },
   "outputs": [
    {
     "data": {
      "text/plain": [
       "False"
      ]
     },
     "execution_count": 27,
     "metadata": {},
     "output_type": "execute_result"
    }
   ],
   "source": [
    "'zzzzz' in lista_b"
   ]
  },
  {
   "cell_type": "markdown",
   "id": "1f9c5d4c",
   "metadata": {
    "slideshow": {
     "slide_type": "subslide"
    }
   },
   "source": [
    "- La palabra clave `not` puede ser utilizada para negar"
   ]
  },
  {
   "cell_type": "code",
   "execution_count": 28,
   "id": "4ce4e63c",
   "metadata": {
    "slideshow": {
     "slide_type": "subslide"
    }
   },
   "outputs": [
    {
     "data": {
      "text/plain": [
       "True"
      ]
     },
     "execution_count": 28,
     "metadata": {},
     "output_type": "execute_result"
    }
   ],
   "source": [
    "'zzzzz' not in lista_b"
   ]
  },
  {
   "cell_type": "markdown",
   "id": "aa79882b",
   "metadata": {
    "slideshow": {
     "slide_type": "slide"
    }
   },
   "source": [
    "- **Concatenando y combinando listas**. Al igual que las tuplas, agregar dos listas juntas con + las concatena"
   ]
  },
  {
   "cell_type": "code",
   "execution_count": 29,
   "id": "9363b638",
   "metadata": {
    "slideshow": {
     "slide_type": "subslide"
    }
   },
   "outputs": [
    {
     "data": {
      "text/plain": [
       "[4, None, 'foo', 7, 8, (2, 3)]"
      ]
     },
     "execution_count": 29,
     "metadata": {},
     "output_type": "execute_result"
    }
   ],
   "source": [
    "[4, None, 'foo'] + [7, 8, (2, 3)]"
   ]
  },
  {
   "cell_type": "markdown",
   "id": "a18a2f22",
   "metadata": {
    "slideshow": {
     "slide_type": "subslide"
    }
   },
   "source": [
    "- Si ya tienes una lista definida, puedes agregarle múltiples elementos usando el método `extend`"
   ]
  },
  {
   "cell_type": "code",
   "execution_count": 30,
   "id": "2856b705",
   "metadata": {
    "slideshow": {
     "slide_type": "subslide"
    }
   },
   "outputs": [
    {
     "data": {
      "text/plain": [
       "[4, None, 'foo', 7, 8, (2, 3)]"
      ]
     },
     "execution_count": 30,
     "metadata": {},
     "output_type": "execute_result"
    }
   ],
   "source": [
    "x = [4, None, 'foo']\n",
    "x.extend([7, 8, (2, 3)]) \n",
    "x"
   ]
  },
  {
   "cell_type": "markdown",
   "id": "d2e45022",
   "metadata": {
    "slideshow": {
     "slide_type": "slide"
    }
   },
   "source": [
    "- La concatenación de listas mediante la adición es una operación comparativamente costosa, ya que se debe crear una nueva lista y copiar los objetos. Usar `extend` para agregar elementos a una lista existente, especialmente si estás construyendo una lista grande, suele ser preferible"
   ]
  },
  {
   "cell_type": "markdown",
   "id": "271f531f",
   "metadata": {
    "slideshow": {
     "slide_type": "subslide"
    }
   },
   "source": [
    "- **Ordenamiento**. Se puede ordenar una lista en su lugar (sin crear un nuevo objeto) llamando a su función `sort`"
   ]
  },
  {
   "cell_type": "code",
   "execution_count": 31,
   "id": "99edfcd7",
   "metadata": {
    "slideshow": {
     "slide_type": "subslide"
    }
   },
   "outputs": [
    {
     "data": {
      "text/plain": [
       "[1, 2, 3, 5, 7]"
      ]
     },
     "execution_count": 31,
     "metadata": {},
     "output_type": "execute_result"
    }
   ],
   "source": [
    "a = [7, 2, 5, 1, 3]\n",
    "a.sort()\n",
    "a"
   ]
  },
  {
   "cell_type": "markdown",
   "id": "ad9b927f",
   "metadata": {
    "slideshow": {
     "slide_type": "slide"
    }
   },
   "source": [
    "- `sort` tiene algunas opciones que ocasionalmente serán útiles. Una de ellas es la capacidad de pasar una clave de ordenamiento secundaria, es decir, una función que produce un valor para usar para ordenar los objetos. Por ejemplo, podríamos ordenar una colección de strings por sus longitudes"
   ]
  },
  {
   "cell_type": "code",
   "execution_count": 32,
   "id": "0c1f66ea",
   "metadata": {
    "slideshow": {
     "slide_type": "subslide"
    }
   },
   "outputs": [
    {
     "data": {
      "text/plain": [
       "['He', 'saw', 'six', 'small', 'foxes']"
      ]
     },
     "execution_count": 32,
     "metadata": {},
     "output_type": "execute_result"
    }
   ],
   "source": [
    "b = ['saw', 'small', 'He', 'foxes', 'six']\n",
    "b.sort(key=len)\n",
    "b"
   ]
  },
  {
   "cell_type": "markdown",
   "id": "6b538819",
   "metadata": {
    "slideshow": {
     "slide_type": "slide"
    }
   },
   "source": [
    "- ***Slicing***. Se puede seleccionar secciones de la mayoría de los tipos de secuencias utilizando la notación de *slicing* (rebanado), que en su forma básica consiste en `start:stop` pasados al operador de indexación `[]`"
   ]
  },
  {
   "cell_type": "code",
   "execution_count": 33,
   "id": "decdaaa3",
   "metadata": {
    "slideshow": {
     "slide_type": "subslide"
    }
   },
   "outputs": [
    {
     "data": {
      "text/plain": [
       "[2, 3, 7, 5]"
      ]
     },
     "execution_count": 33,
     "metadata": {},
     "output_type": "execute_result"
    }
   ],
   "source": [
    "seq = [7, 2, 3, 7, 5, 6, 0, 1]\n",
    "seq[1:5]"
   ]
  },
  {
   "cell_type": "markdown",
   "id": "2f19309b",
   "metadata": {
    "slideshow": {
     "slide_type": "subslide"
    }
   },
   "source": [
    "- Las rebanadas también pueden asignarse con una secuencia"
   ]
  },
  {
   "cell_type": "code",
   "execution_count": 34,
   "id": "33b03aba",
   "metadata": {
    "slideshow": {
     "slide_type": "subslide"
    }
   },
   "outputs": [
    {
     "data": {
      "text/plain": [
       "[7, 2, 3, 6, 3, 5, 6, 0, 1]"
      ]
     },
     "execution_count": 34,
     "metadata": {},
     "output_type": "execute_result"
    }
   ],
   "source": [
    "seq[3:4] = [6, 3]\n",
    "seq"
   ]
  },
  {
   "cell_type": "markdown",
   "id": "c037553c",
   "metadata": {
    "slideshow": {
     "slide_type": "slide"
    }
   },
   "source": [
    "- Mientras que el elemento en el índice de inicio está incluido, el índice de parada no está incluido, por lo que el número de elementos en el resultado es `stop - start`"
   ]
  },
  {
   "cell_type": "code",
   "execution_count": 35,
   "id": "b7d4f73c",
   "metadata": {
    "slideshow": {
     "slide_type": "subslide"
    }
   },
   "outputs": [
    {
     "data": {
      "text/plain": [
       "[7, 2, 3, 6, 3]"
      ]
     },
     "execution_count": 35,
     "metadata": {},
     "output_type": "execute_result"
    }
   ],
   "source": [
    "seq[:5]"
   ]
  },
  {
   "cell_type": "code",
   "execution_count": 36,
   "id": "129982ff",
   "metadata": {
    "slideshow": {
     "slide_type": "subslide"
    }
   },
   "outputs": [
    {
     "data": {
      "text/plain": [
       "[6, 3, 5, 6, 0, 1]"
      ]
     },
     "execution_count": 36,
     "metadata": {},
     "output_type": "execute_result"
    }
   ],
   "source": [
    "seq[3:]"
   ]
  },
  {
   "cell_type": "markdown",
   "id": "243e4567",
   "metadata": {
    "slideshow": {
     "slide_type": "subslide"
    }
   },
   "source": [
    "- Los índices negativos cortan la secuencia en relación con el final"
   ]
  },
  {
   "cell_type": "code",
   "execution_count": 37,
   "id": "7e7c8141",
   "metadata": {
    "slideshow": {
     "slide_type": "subslide"
    }
   },
   "outputs": [
    {
     "data": {
      "text/plain": [
       "[5, 6, 0, 1]"
      ]
     },
     "execution_count": 37,
     "metadata": {},
     "output_type": "execute_result"
    }
   ],
   "source": [
    "seq[-4:]"
   ]
  },
  {
   "cell_type": "markdown",
   "id": "bebf5295",
   "metadata": {
    "slideshow": {
     "slide_type": "slide"
    }
   },
   "source": [
    "- Un paso también puede usarse después de un segundo colon para, por ejemplo, tomar cada -#de_pasos- un elemento"
   ]
  },
  {
   "cell_type": "code",
   "execution_count": 38,
   "id": "af0284fc",
   "metadata": {
    "slideshow": {
     "slide_type": "subslide"
    }
   },
   "outputs": [
    {
     "data": {
      "text/plain": [
       "[7, 3, 3, 6, 1]"
      ]
     },
     "execution_count": 38,
     "metadata": {},
     "output_type": "execute_result"
    }
   ],
   "source": [
    "seq[::2]"
   ]
  },
  {
   "cell_type": "markdown",
   "id": "388397cd",
   "metadata": {
    "slideshow": {
     "slide_type": "subslide"
    }
   },
   "source": [
    "- Un uso inteligente de esto es pasar -1 como paso, que permite inverir una lista o tupla"
   ]
  },
  {
   "cell_type": "code",
   "execution_count": 39,
   "id": "64cd2531",
   "metadata": {
    "slideshow": {
     "slide_type": "subslide"
    }
   },
   "outputs": [
    {
     "data": {
      "text/plain": [
       "[1, 0, 6, 5, 3, 6, 3, 2, 7]"
      ]
     },
     "execution_count": 39,
     "metadata": {},
     "output_type": "execute_result"
    }
   ],
   "source": [
    "seq[::-1]"
   ]
  },
  {
   "cell_type": "markdown",
   "id": "1f7f6a27",
   "metadata": {
    "slideshow": {
     "slide_type": "slide"
    }
   },
   "source": [
    "**Funciones de secuencia incorporadas**\n",
    "\n",
    "\n",
    "\n",
    "\n",
    "Python tiene un puñado de funciones de secuencia útiles que pueden ser utilizadas en cualquier oportunidad"
   ]
  },
  {
   "cell_type": "markdown",
   "id": "1b25002f",
   "metadata": {
    "slideshow": {
     "slide_type": "subslide"
    }
   },
   "source": [
    "- **`enumerate`**: es una función muy útil para iterar sobre una secuencia cuando quieres llevar un registro del índice del elemento actual\n",
    "\n",
    "\n",
    "- La forma estandar de tener constancia sobre el estado de una variable que itera sobre un conjuto de datos en un ciclo es la siguiente:\n",
    "\n",
    "        i = 0\n",
    "        for value in datos:\n",
    "            haz algo con el elemento de turno en la iteración\n",
    "            i += 1\n",
    "            \n",
    "            \n",
    "- Dado que esto es muy común, Python tiene una función integrada, `enumerate`, que devuelve una secuencia de tuplas `(i, valor)`            \n",
    "\n",
    "        for i, value in enumerate(datos)"
   ]
  },
  {
   "cell_type": "code",
   "execution_count": 40,
   "id": "000ddf30",
   "metadata": {
    "slideshow": {
     "slide_type": "subslide"
    }
   },
   "outputs": [
    {
     "name": "stdout",
     "output_type": "stream",
     "text": [
      "0 Pedro\n",
      "1 Ronaldo\n",
      "2 Ernesto\n"
     ]
    }
   ],
   "source": [
    "datos = ['Pedro', 'Ronaldo', 'Ernesto']\n",
    "\n",
    "for i, v in enumerate(datos):\n",
    "    print(i, v)"
   ]
  },
  {
   "cell_type": "markdown",
   "id": "56c0c210",
   "metadata": {
    "slideshow": {
     "slide_type": "slide"
    }
   },
   "source": [
    "- **`sorted`**: devuelve una nueva lista ordenada a partir de los elementos de cualquier secuencia"
   ]
  },
  {
   "cell_type": "code",
   "execution_count": 41,
   "id": "9cf440a0",
   "metadata": {
    "slideshow": {
     "slide_type": "subslide"
    }
   },
   "outputs": [
    {
     "data": {
      "text/plain": [
       "[0, 1, 2, 2, 3, 6, 7]"
      ]
     },
     "execution_count": 41,
     "metadata": {},
     "output_type": "execute_result"
    }
   ],
   "source": [
    "sorted([7, 1, 2, 6, 0, 3, 2])"
   ]
  },
  {
   "cell_type": "code",
   "execution_count": 42,
   "id": "414e5848",
   "metadata": {
    "slideshow": {
     "slide_type": "subslide"
    }
   },
   "outputs": [
    {
     "data": {
      "text/plain": [
       "[' ', 'a', 'c', 'e', 'e', 'h', 'o', 'r', 'r', 's']"
      ]
     },
     "execution_count": 42,
     "metadata": {},
     "output_type": "execute_result"
    }
   ],
   "source": [
    "sorted('horse race')"
   ]
  },
  {
   "cell_type": "markdown",
   "id": "1281e793",
   "metadata": {
    "slideshow": {
     "slide_type": "slide"
    }
   },
   "source": [
    "- **`zip`**: \"empareja\" los elementos de un número de listas, tuplas u otras secuencias para crear una lista de tuplas"
   ]
  },
  {
   "cell_type": "code",
   "execution_count": 43,
   "id": "59656405",
   "metadata": {
    "slideshow": {
     "slide_type": "subslide"
    }
   },
   "outputs": [
    {
     "data": {
      "text/plain": [
       "[('a', 'uno'), ('b', 'dos'), ('c', 'tres')]"
      ]
     },
     "execution_count": 43,
     "metadata": {},
     "output_type": "execute_result"
    }
   ],
   "source": [
    "seq1 = ['a', 'b', 'c']\n",
    "seq2 = ['uno', 'dos', 'tres']\n",
    "\n",
    "zipped = zip(seq1, seq2)\n",
    "list(zipped)"
   ]
  },
  {
   "cell_type": "markdown",
   "id": "e0751ea8",
   "metadata": {
    "slideshow": {
     "slide_type": "subslide"
    }
   },
   "source": [
    "- `zip` puede tomar un número arbitrario de secuencias, y el número de elementos que produce está determinado por la secuencia más corta"
   ]
  },
  {
   "cell_type": "code",
   "execution_count": 44,
   "id": "4f6d9af7",
   "metadata": {
    "slideshow": {
     "slide_type": "subslide"
    }
   },
   "outputs": [
    {
     "data": {
      "text/plain": [
       "[('a', 'uno', False), ('b', 'dos', True)]"
      ]
     },
     "execution_count": 44,
     "metadata": {},
     "output_type": "execute_result"
    }
   ],
   "source": [
    "seq3 = [False, True]\n",
    "list(zip(seq1, seq2, seq3))"
   ]
  },
  {
   "cell_type": "markdown",
   "id": "0255efb0",
   "metadata": {
    "slideshow": {
     "slide_type": "slide"
    }
   },
   "source": [
    "Un uso muy común de `zip` es iterar simultáneamente sobre múltiples secuencias, posiblemente también combinado con `enumerate`"
   ]
  },
  {
   "cell_type": "code",
   "execution_count": 45,
   "id": "516790e0",
   "metadata": {
    "slideshow": {
     "slide_type": "subslide"
    }
   },
   "outputs": [
    {
     "name": "stdout",
     "output_type": "stream",
     "text": [
      "0: a, uno\n",
      "1: b, dos\n",
      "2: c, tres\n"
     ]
    }
   ],
   "source": [
    "for i, (a, b) in enumerate(zip(seq1, seq2)):\n",
    "    print('{0}: {1}, {2}'.format(i, a, b))"
   ]
  },
  {
   "cell_type": "markdown",
   "id": "1a2f7a42",
   "metadata": {
    "slideshow": {
     "slide_type": "slide"
    }
   },
   "source": [
    "- **`reversed`**: itera sobre los elementos de una secuencia en orden inverso"
   ]
  },
  {
   "cell_type": "code",
   "execution_count": 46,
   "id": "1d88f066",
   "metadata": {
    "slideshow": {
     "slide_type": "subslide"
    }
   },
   "outputs": [
    {
     "data": {
      "text/plain": [
       "[9, 8, 7, 6, 5, 4, 3, 2, 1, 0]"
      ]
     },
     "execution_count": 46,
     "metadata": {},
     "output_type": "execute_result"
    }
   ],
   "source": [
    " list(reversed(range(10)))"
   ]
  },
  {
   "cell_type": "markdown",
   "id": "edd9bc9b",
   "metadata": {
    "slideshow": {
     "slide_type": "subslide"
    }
   },
   "source": [
    "*`reversed` es un generador, por lo que no crea la secuencia invertida hasta que se materializa (por ejemplo, con `list` o un bucle `for`)*"
   ]
  },
  {
   "cell_type": "code",
   "execution_count": null,
   "id": "e1ab6a01",
   "metadata": {
    "slideshow": {
     "slide_type": "skip"
    }
   },
   "outputs": [],
   "source": []
  },
  {
   "cell_type": "markdown",
   "id": "568565bc",
   "metadata": {
    "slideshow": {
     "slide_type": "slide"
    }
   },
   "source": [
    "Un **iterador** es un objeto que permite recorrer un contenedor, particularmente listas. Sin embargo, no se limita solo a las listas. Los iteradores son elegantes y flexibles porque pueden trabajar con cualquier objeto que sea iterable.\n",
    "\n",
    "Los iteradores son más eficientes:\n",
    "\n",
    "-- **Uso eficiente de la memoria**: No necesitan cargar toda la lista en la memoria a la vez, lo cual es especialmente útil cuando se trabaja con grandes conjuntos de datos.\n",
    "\n",
    "-- **Lazy evaluation**: Los elementos solo se generan cuando son necesarios. Esto significa que un iterador no calcula todos los valores al inicio, sino que espera hasta que se le pida el siguiente elemento.\n",
    "\n",
    "-- **Universalidad**: Pueden trabajar con cualquier objeto iterable, no solo listas. Esto incluye cadenas, diccionarios, archivos y más.\n"
   ]
  },
  {
   "cell_type": "code",
   "execution_count": null,
   "id": "f5d1616d",
   "metadata": {
    "slideshow": {
     "slide_type": "skip"
    }
   },
   "outputs": [],
   "source": []
  }
 ],
 "metadata": {
  "celltoolbar": "Slideshow",
  "kernelspec": {
   "display_name": "Python 3 (ipykernel)",
   "language": "python",
   "name": "python3"
  },
  "language_info": {
   "codemirror_mode": {
    "name": "ipython",
    "version": 3
   },
   "file_extension": ".py",
   "mimetype": "text/x-python",
   "name": "python",
   "nbconvert_exporter": "python",
   "pygments_lexer": "ipython3",
   "version": "3.9.12"
  }
 },
 "nbformat": 4,
 "nbformat_minor": 5
}
